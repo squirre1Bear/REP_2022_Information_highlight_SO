{
 "cells": [
  {
   "cell_type": "code",
   "execution_count": 1,
   "metadata": {},
   "outputs": [],
   "source": [
    "from csv import reader,DictWriter\n",
    "import re\n",
    "import pandas as pd"
   ]
  },
  {
   "cell_type": "code",
   "execution_count": 2,
   "metadata": {},
   "outputs": [],
   "source": [
    "import logging    # first of all import the module\n",
    "\n",
    "logging.basicConfig(filename='std.log', filemode='w', format='%(name)s - %(levelname)s - %(message)s')\n",
    "logging.warning('This message will get logged on to a file')"
   ]
  },
  {
   "cell_type": "code",
   "execution_count": 3,
   "metadata": {},
   "outputs": [],
   "source": [
    "formatting_tags = ['h1','h2','h3','h4','h5','h6']"
   ]
  },
  {
   "cell_type": "code",
   "execution_count": 4,
   "metadata": {},
   "outputs": [],
   "source": [
    "def return_tag_type(tag):\n",
    "    bold_tags = ['b','strong']\n",
    "    italic_tags = ['i','em']\n",
    "    heading_tags = ['h1','h2','h3','h4','h5','h6']\n",
    "    deletion_tags = ['del','s']\n",
    "#     emphasis_tags = ['b','strong','i','em'] \n",
    "    if tag in bold_tags:\n",
    "        return \"bold\"\n",
    "    elif tag in italic_tags:\n",
    "        return \"italic\"\n",
    "#     if tag in emphasis_tags:\n",
    "#         return \"emphasis\"\n",
    "    elif tag in heading_tags:\n",
    "        return \"heading\"\n",
    "    elif tag in deletion_tags:\n",
    "        return \"delete\"\n",
    "    else:\n",
    "        return tag"
   ]
  },
  {
   "cell_type": "code",
   "execution_count": 5,
   "metadata": {},
   "outputs": [],
   "source": [
    "def remove_tags(text):\n",
    "    Tag_first = re.compile(r'<[^\\/>]+>')\n",
    "    Tag_end = re.compile(r'<[^>]+>')\n",
    "    without_first_tag = Tag_first.sub('',text)\n",
    "    return Tag_end.sub(' ', without_first_tag)"
   ]
  },
  {
   "cell_type": "code",
   "execution_count": 6,
   "metadata": {},
   "outputs": [
    {
     "ename": "FileNotFoundError",
     "evalue": "[Errno 2] No such file or directory: '/home/shahla/ProjectWorkHTML/Posts_csv_files/WithoutCodeBlock/without_pre_htmls_last.csv'",
     "output_type": "error",
     "traceback": [
      "\u001b[0;31m---------------------------------------------------------------------------\u001b[0m",
      "\u001b[0;31mFileNotFoundError\u001b[0m                         Traceback (most recent call last)",
      "\u001b[1;32m/mnt/workspace/REP_2022_Information_highlight_SO/Code_for_RQ4/Create_dataset/Create_BOE_tagged_csv_file.ipynb Cell 6\u001b[0m line \u001b[0;36m1\n\u001b[0;32m----> <a href='vscode-notebook-cell://dsw-gateway-cn-shanghai.data.aliyun.com/mnt/workspace/REP_2022_Information_highlight_SO/Code_for_RQ4/Create_dataset/Create_BOE_tagged_csv_file.ipynb#W5sdnNjb2RlLXJlbW90ZQ%3D%3D?line=0'>1</a>\u001b[0m result_dataframe \u001b[39m=\u001b[39m pd\u001b[39m.\u001b[39;49mread_csv(\u001b[39m'\u001b[39;49m\u001b[39m/home/shahla/ProjectWorkHTML/Posts_csv_files/WithoutCodeBlock/without_pre_htmls_last.csv\u001b[39;49m\u001b[39m'\u001b[39;49m)\n\u001b[1;32m      <a href='vscode-notebook-cell://dsw-gateway-cn-shanghai.data.aliyun.com/mnt/workspace/REP_2022_Information_highlight_SO/Code_for_RQ4/Create_dataset/Create_BOE_tagged_csv_file.ipynb#W5sdnNjb2RlLXJlbW90ZQ%3D%3D?line=1'>2</a>\u001b[0m \u001b[39m# For getiing heading type of data only, for othe types, change the start and end tags as the expected tags and\u001b[39;00m\n\u001b[1;32m      <a href='vscode-notebook-cell://dsw-gateway-cn-shanghai.data.aliyun.com/mnt/workspace/REP_2022_Information_highlight_SO/Code_for_RQ4/Create_dataset/Create_BOE_tagged_csv_file.ipynb#W5sdnNjb2RlLXJlbW90ZQ%3D%3D?line=2'>3</a>\u001b[0m \u001b[39m# put the rest of the tags in the other tags\u001b[39;00m\n\u001b[1;32m      <a href='vscode-notebook-cell://dsw-gateway-cn-shanghai.data.aliyun.com/mnt/workspace/REP_2022_Information_highlight_SO/Code_for_RQ4/Create_dataset/Create_BOE_tagged_csv_file.ipynb#W5sdnNjb2RlLXJlbW90ZQ%3D%3D?line=3'>4</a>\u001b[0m start_all_tags \u001b[39m=\u001b[39m [\u001b[39m'\u001b[39m\u001b[39m<h1>\u001b[39m\u001b[39m'\u001b[39m,\u001b[39m'\u001b[39m\u001b[39m<h2>\u001b[39m\u001b[39m'\u001b[39m,\u001b[39m'\u001b[39m\u001b[39m<h3>\u001b[39m\u001b[39m'\u001b[39m,\u001b[39m'\u001b[39m\u001b[39m<h4>\u001b[39m\u001b[39m'\u001b[39m,\u001b[39m'\u001b[39m\u001b[39m<h5>\u001b[39m\u001b[39m'\u001b[39m,\u001b[39m'\u001b[39m\u001b[39m<h6>\u001b[39m\u001b[39m'\u001b[39m]\n",
      "File \u001b[0;32m/usr/local/lib/python3.10/site-packages/pandas/io/parsers/readers.py:1026\u001b[0m, in \u001b[0;36mread_csv\u001b[0;34m(filepath_or_buffer, sep, delimiter, header, names, index_col, usecols, dtype, engine, converters, true_values, false_values, skipinitialspace, skiprows, skipfooter, nrows, na_values, keep_default_na, na_filter, verbose, skip_blank_lines, parse_dates, infer_datetime_format, keep_date_col, date_parser, date_format, dayfirst, cache_dates, iterator, chunksize, compression, thousands, decimal, lineterminator, quotechar, quoting, doublequote, escapechar, comment, encoding, encoding_errors, dialect, on_bad_lines, delim_whitespace, low_memory, memory_map, float_precision, storage_options, dtype_backend)\u001b[0m\n\u001b[1;32m   1013\u001b[0m kwds_defaults \u001b[39m=\u001b[39m _refine_defaults_read(\n\u001b[1;32m   1014\u001b[0m     dialect,\n\u001b[1;32m   1015\u001b[0m     delimiter,\n\u001b[0;32m   (...)\u001b[0m\n\u001b[1;32m   1022\u001b[0m     dtype_backend\u001b[39m=\u001b[39mdtype_backend,\n\u001b[1;32m   1023\u001b[0m )\n\u001b[1;32m   1024\u001b[0m kwds\u001b[39m.\u001b[39mupdate(kwds_defaults)\n\u001b[0;32m-> 1026\u001b[0m \u001b[39mreturn\u001b[39;00m _read(filepath_or_buffer, kwds)\n",
      "File \u001b[0;32m/usr/local/lib/python3.10/site-packages/pandas/io/parsers/readers.py:620\u001b[0m, in \u001b[0;36m_read\u001b[0;34m(filepath_or_buffer, kwds)\u001b[0m\n\u001b[1;32m    617\u001b[0m _validate_names(kwds\u001b[39m.\u001b[39mget(\u001b[39m\"\u001b[39m\u001b[39mnames\u001b[39m\u001b[39m\"\u001b[39m, \u001b[39mNone\u001b[39;00m))\n\u001b[1;32m    619\u001b[0m \u001b[39m# Create the parser.\u001b[39;00m\n\u001b[0;32m--> 620\u001b[0m parser \u001b[39m=\u001b[39m TextFileReader(filepath_or_buffer, \u001b[39m*\u001b[39;49m\u001b[39m*\u001b[39;49mkwds)\n\u001b[1;32m    622\u001b[0m \u001b[39mif\u001b[39;00m chunksize \u001b[39mor\u001b[39;00m iterator:\n\u001b[1;32m    623\u001b[0m     \u001b[39mreturn\u001b[39;00m parser\n",
      "File \u001b[0;32m/usr/local/lib/python3.10/site-packages/pandas/io/parsers/readers.py:1620\u001b[0m, in \u001b[0;36mTextFileReader.__init__\u001b[0;34m(self, f, engine, **kwds)\u001b[0m\n\u001b[1;32m   1617\u001b[0m     \u001b[39mself\u001b[39m\u001b[39m.\u001b[39moptions[\u001b[39m\"\u001b[39m\u001b[39mhas_index_names\u001b[39m\u001b[39m\"\u001b[39m] \u001b[39m=\u001b[39m kwds[\u001b[39m\"\u001b[39m\u001b[39mhas_index_names\u001b[39m\u001b[39m\"\u001b[39m]\n\u001b[1;32m   1619\u001b[0m \u001b[39mself\u001b[39m\u001b[39m.\u001b[39mhandles: IOHandles \u001b[39m|\u001b[39m \u001b[39mNone\u001b[39;00m \u001b[39m=\u001b[39m \u001b[39mNone\u001b[39;00m\n\u001b[0;32m-> 1620\u001b[0m \u001b[39mself\u001b[39m\u001b[39m.\u001b[39m_engine \u001b[39m=\u001b[39m \u001b[39mself\u001b[39;49m\u001b[39m.\u001b[39;49m_make_engine(f, \u001b[39mself\u001b[39;49m\u001b[39m.\u001b[39;49mengine)\n",
      "File \u001b[0;32m/usr/local/lib/python3.10/site-packages/pandas/io/parsers/readers.py:1880\u001b[0m, in \u001b[0;36mTextFileReader._make_engine\u001b[0;34m(self, f, engine)\u001b[0m\n\u001b[1;32m   1878\u001b[0m     \u001b[39mif\u001b[39;00m \u001b[39m\"\u001b[39m\u001b[39mb\u001b[39m\u001b[39m\"\u001b[39m \u001b[39mnot\u001b[39;00m \u001b[39min\u001b[39;00m mode:\n\u001b[1;32m   1879\u001b[0m         mode \u001b[39m+\u001b[39m\u001b[39m=\u001b[39m \u001b[39m\"\u001b[39m\u001b[39mb\u001b[39m\u001b[39m\"\u001b[39m\n\u001b[0;32m-> 1880\u001b[0m \u001b[39mself\u001b[39m\u001b[39m.\u001b[39mhandles \u001b[39m=\u001b[39m get_handle(\n\u001b[1;32m   1881\u001b[0m     f,\n\u001b[1;32m   1882\u001b[0m     mode,\n\u001b[1;32m   1883\u001b[0m     encoding\u001b[39m=\u001b[39;49m\u001b[39mself\u001b[39;49m\u001b[39m.\u001b[39;49moptions\u001b[39m.\u001b[39;49mget(\u001b[39m\"\u001b[39;49m\u001b[39mencoding\u001b[39;49m\u001b[39m\"\u001b[39;49m, \u001b[39mNone\u001b[39;49;00m),\n\u001b[1;32m   1884\u001b[0m     compression\u001b[39m=\u001b[39;49m\u001b[39mself\u001b[39;49m\u001b[39m.\u001b[39;49moptions\u001b[39m.\u001b[39;49mget(\u001b[39m\"\u001b[39;49m\u001b[39mcompression\u001b[39;49m\u001b[39m\"\u001b[39;49m, \u001b[39mNone\u001b[39;49;00m),\n\u001b[1;32m   1885\u001b[0m     memory_map\u001b[39m=\u001b[39;49m\u001b[39mself\u001b[39;49m\u001b[39m.\u001b[39;49moptions\u001b[39m.\u001b[39;49mget(\u001b[39m\"\u001b[39;49m\u001b[39mmemory_map\u001b[39;49m\u001b[39m\"\u001b[39;49m, \u001b[39mFalse\u001b[39;49;00m),\n\u001b[1;32m   1886\u001b[0m     is_text\u001b[39m=\u001b[39;49mis_text,\n\u001b[1;32m   1887\u001b[0m     errors\u001b[39m=\u001b[39;49m\u001b[39mself\u001b[39;49m\u001b[39m.\u001b[39;49moptions\u001b[39m.\u001b[39;49mget(\u001b[39m\"\u001b[39;49m\u001b[39mencoding_errors\u001b[39;49m\u001b[39m\"\u001b[39;49m, \u001b[39m\"\u001b[39;49m\u001b[39mstrict\u001b[39;49m\u001b[39m\"\u001b[39;49m),\n\u001b[1;32m   1888\u001b[0m     storage_options\u001b[39m=\u001b[39;49m\u001b[39mself\u001b[39;49m\u001b[39m.\u001b[39;49moptions\u001b[39m.\u001b[39;49mget(\u001b[39m\"\u001b[39;49m\u001b[39mstorage_options\u001b[39;49m\u001b[39m\"\u001b[39;49m, \u001b[39mNone\u001b[39;49;00m),\n\u001b[1;32m   1889\u001b[0m )\n\u001b[1;32m   1890\u001b[0m \u001b[39massert\u001b[39;00m \u001b[39mself\u001b[39m\u001b[39m.\u001b[39mhandles \u001b[39mis\u001b[39;00m \u001b[39mnot\u001b[39;00m \u001b[39mNone\u001b[39;00m\n\u001b[1;32m   1891\u001b[0m f \u001b[39m=\u001b[39m \u001b[39mself\u001b[39m\u001b[39m.\u001b[39mhandles\u001b[39m.\u001b[39mhandle\n",
      "File \u001b[0;32m/usr/local/lib/python3.10/site-packages/pandas/io/common.py:873\u001b[0m, in \u001b[0;36mget_handle\u001b[0;34m(path_or_buf, mode, encoding, compression, memory_map, is_text, errors, storage_options)\u001b[0m\n\u001b[1;32m    868\u001b[0m \u001b[39melif\u001b[39;00m \u001b[39misinstance\u001b[39m(handle, \u001b[39mstr\u001b[39m):\n\u001b[1;32m    869\u001b[0m     \u001b[39m# Check whether the filename is to be opened in binary mode.\u001b[39;00m\n\u001b[1;32m    870\u001b[0m     \u001b[39m# Binary mode does not support 'encoding' and 'newline'.\u001b[39;00m\n\u001b[1;32m    871\u001b[0m     \u001b[39mif\u001b[39;00m ioargs\u001b[39m.\u001b[39mencoding \u001b[39mand\u001b[39;00m \u001b[39m\"\u001b[39m\u001b[39mb\u001b[39m\u001b[39m\"\u001b[39m \u001b[39mnot\u001b[39;00m \u001b[39min\u001b[39;00m ioargs\u001b[39m.\u001b[39mmode:\n\u001b[1;32m    872\u001b[0m         \u001b[39m# Encoding\u001b[39;00m\n\u001b[0;32m--> 873\u001b[0m         handle \u001b[39m=\u001b[39m \u001b[39mopen\u001b[39;49m(\n\u001b[1;32m    874\u001b[0m             handle,\n\u001b[1;32m    875\u001b[0m             ioargs\u001b[39m.\u001b[39;49mmode,\n\u001b[1;32m    876\u001b[0m             encoding\u001b[39m=\u001b[39;49mioargs\u001b[39m.\u001b[39;49mencoding,\n\u001b[1;32m    877\u001b[0m             errors\u001b[39m=\u001b[39;49merrors,\n\u001b[1;32m    878\u001b[0m             newline\u001b[39m=\u001b[39;49m\u001b[39m\"\u001b[39;49m\u001b[39m\"\u001b[39;49m,\n\u001b[1;32m    879\u001b[0m         )\n\u001b[1;32m    880\u001b[0m     \u001b[39melse\u001b[39;00m:\n\u001b[1;32m    881\u001b[0m         \u001b[39m# Binary mode\u001b[39;00m\n\u001b[1;32m    882\u001b[0m         handle \u001b[39m=\u001b[39m \u001b[39mopen\u001b[39m(handle, ioargs\u001b[39m.\u001b[39mmode)\n",
      "\u001b[0;31mFileNotFoundError\u001b[0m: [Errno 2] No such file or directory: '/home/shahla/ProjectWorkHTML/Posts_csv_files/WithoutCodeBlock/without_pre_htmls_last.csv'"
     ]
    }
   ],
   "source": [
    "result_dataframe = pd.read_csv('/home/shahla/ProjectWorkHTML/Posts_csv_files/WithoutCodeBlock/without_pre_htmls_last.csv')\n",
    "# For getiing heading type of data only, for othe types, change the start and end tags as the expected tags and\n",
    "# put the rest of the tags in the other tags\n",
    "start_all_tags = ['<h1>','<h2>','<h3>','<h4>','<h5>','<h6>']\n",
    "end_all_tags = ['</h1>','</h2>','</h3>','</h4>','</h5>','</h6>']\n",
    "other_all_tags = ['<p>','</p>','<li>','</li>','<ul>','</ul>','<del>','<s>','<code>','</del>','</s>','</code>','<i>','<em>','<b>','<strong>','</i>','</em>','</b>','</strong>']\n",
    "\n",
    "with open('/home/shahla/ProjectWorkHTML/Posts_csv_files/Emphasis_dataset/ver2_emphasis_only_last.csv', 'w', newline='',encoding=\"utf8\") as csvfile:\n",
    "    fieldnames = ['word','Tags']\n",
    "    writer = DictWriter(csvfile, fieldnames=fieldnames)\n",
    "    writer.writeheader()\n",
    "    for index, row in result_dataframe.iterrows():\n",
    "        answer_html = str(row['Answers'])\n",
    "        word_tag_dictionary = {}\n",
    "        tag_name = ''\n",
    "#         creating a space starting and ending of the tags\n",
    "        s = answer_html.replace(\"<\",\" <\").replace(\">\",\"> \").replace(\",\",\", \")\n",
    "        pattern = re.compile(r'(\\.(\\s))')\n",
    "        sentence = re.sub(pattern, ' ', s)\n",
    "        arr=sentence.split()\n",
    "#         print(s)\n",
    "        for tag in formatting_tags:\n",
    "            reg_str = \"<\" + tag + \"> (.*?) <\\/\" + tag + \">\" \n",
    "           \n",
    "            res = re.findall(reg_str, s,flags=re.DOTALL)\n",
    "\n",
    "            word_count_arr = []\n",
    "            for i in range(len(res)):\n",
    "                word_count = len(res[i].split())\n",
    "                word_count_arr.append(word_count)\n",
    "            word_tag_dictionary[tag] = word_count_arr\n",
    "            \n",
    "# start_bool for checking whether it is the starting of the tag\n",
    "# tag_count is to keep track of the tagged words\n",
    "\n",
    "        start_bool={'code':False,'b':False,'strong':False,'i':False,'em':False,'h1':False,'h2':False,'h3':False,'h4':False,'h5':False,'h6':False,'del':False,'s':False}\n",
    "        tag_count= {'code':-1,'b':-1,'strong':-1,'i':-1,'em':-1,'h1':-1,'h2':-1,'h3':-1,'h4':-1,'h5':-1,'h6':-1,'del':-1,'s':-1}\n",
    "        tag_position= {'code':0,'b':0,'strong':0,'i':0,'em':0,'h1':0,'h2':0,'h3':0,'h4':0,'h5':0,'h6':0,'del':0,'s':0}\n",
    "        \n",
    "        \n",
    "        any_format_tag = bool([a for a in word_tag_dictionary.values() if a != []])\n",
    "        word_length_all={'code':0,'b':0,'strong':0,'i':0,'em':0,'h1':0,'h2':0,'h3':0,'h4':0,'h5':0,'h6':0,'del':0,'s':0}\n",
    "        \n",
    "        try:\n",
    "            if any_format_tag == 0:\n",
    "                continue\n",
    "    #             for i in arr:\n",
    "    #                 writer.writerow({fieldnames[0]: i,fieldnames[1]:'O'})\n",
    "    #                 print('O')\n",
    "            else:\n",
    "                for i in arr:\n",
    "                    if i in start_all_tags:\n",
    "                        index = i.strip('</>')\n",
    "                        start_bool[index] = True\n",
    "                        tag_count[index] += 1\n",
    "    #                     print(i)\n",
    "    #                     print(word_tag_dictionary[index],tag_position[index],tag_count[index])\n",
    "                        word_length_all[index] = word_tag_dictionary[index][tag_position[index]]\n",
    "                        tag_name = index\n",
    "    #                     print(index)\n",
    "                    elif i in end_all_tags:\n",
    "                        index = i.strip('</>')\n",
    "                        start_bool[index] = False\n",
    "                        tag_count[index] = -1\n",
    "                        tag_position[index] += 1\n",
    "    #                     print(i)\n",
    "#         check if any other tag is true\n",
    "                    elif bool([a for a in start_bool.values() if a == True]):\n",
    "    #                     print(start_bool)\n",
    "                        for key in start_bool.keys():\n",
    "                            if start_bool[key] == True:\n",
    "                                tag_type = return_tag_type(key)\n",
    "    #                             print(word_length_all[key])\n",
    "                                if tag_count[key] == 0:\n",
    "    #                                 print('B-'+tag_type)\n",
    "                                    ner_tag = 'B-'+tag_type\n",
    "\n",
    "                                    writer.writerow({fieldnames[0]: i,fieldnames[1]:ner_tag})\n",
    "\n",
    "                                elif tag_count[key] < word_length_all[key] -1:\n",
    "    #                                 print('I-'+tag_type)\n",
    "                                    ner_tag = 'I-'+tag_type\n",
    "                                    writer.writerow({fieldnames[0]: i,fieldnames[1]:ner_tag})\n",
    "                                elif tag_count[key] == word_length_all[key] -1:\n",
    "                                    ner_tag = 'E-'+tag_type\n",
    "                                    writer.writerow({fieldnames[0]: i,fieldnames[1]:ner_tag})\n",
    "                                tag_count[key] += 1\n",
    "\n",
    "    #                     print(i)\n",
    "                    elif i in other_all_tags:\n",
    "                        continue\n",
    "                    else:\n",
    "                        writer.writerow({fieldnames[0]: i,fieldnames[1]:'O'})\n",
    "            #             print(\"Nothing\")\n",
    "#                 writer.writerow({fieldnames[0]: \"(EOS)\",fieldnames[1]:'O'})\n",
    "    #             print(tag_count)\n",
    "        except:\n",
    "            continue"
   ]
  }
 ],
 "metadata": {
  "kernelspec": {
   "display_name": "Python 3",
   "language": "python",
   "name": "python3"
  },
  "language_info": {
   "codemirror_mode": {
    "name": "ipython",
    "version": 3
   },
   "file_extension": ".py",
   "mimetype": "text/x-python",
   "name": "python",
   "nbconvert_exporter": "python",
   "pygments_lexer": "ipython3",
   "version": "3.10.14"
  }
 },
 "nbformat": 4,
 "nbformat_minor": 4
}
